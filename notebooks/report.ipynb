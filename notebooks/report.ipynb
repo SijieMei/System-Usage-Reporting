{
 "cells": [
  {
   "cell_type": "code",
   "execution_count": 1,
   "metadata": {},
   "outputs": [],
   "source": [
    "%matplotlib inline\n",
    "import pandas as pd\n",
    "import os\n",
    "import matplotlib.pyplot as plt\n",
    "import sqlite3\n",
    "import numpy as np"
   ]
  },
  {
   "cell_type": "markdown",
   "metadata": {},
   "source": [
    "# Not So Fancy Checkpoint - 2 Report"
   ]
  },
  {
   "cell_type": "markdown",
   "metadata": {},
   "source": [
    "### Introduction\n",
    "&ensp; It’s important for developers to measure the CPU usage. Existing methodology validation methods have been used to validate the CPU usage, including SBQ(Standards Base Qualification) and KBQ(Knowledge Base Qualification). However, these methods, using applications run one-by-one, failed to distinguish use cases applied in various conditions. For example, the CPU usage and associated wearout expectations would be different under the situation when the computer is in game’s mode and when it’s in an office mode. Further, the previous method KBQ can only be used in single tasking cases but ignores the influence from both foreground and background applications. A new method, UCBD(Use Case Based Design), is designed to achieve a better standardization for KBQ -- providing different minimum reliability requirements based on different working environments, namely, multitasking. We are interested in discovering how multitasking activities in CPUs affect battery life.  \n"
   ]
  },
  {
   "cell_type": "markdown",
   "metadata": {},
   "source": [
    "### Process of our data collection\n",
    "\n",
    "<ol>\n",
    "    <li>run run.py data</li>\n",
    "</ol>\n"
   ]
  },
  {
   "cell_type": "markdown",
   "metadata": {},
   "source": [
    "&ensp; To begin data collecting process, we will open a new terminal and execute run.py file with paramter data. Firstly, The run.py will read paramters from data-params.json. By using these paramters, run.py execute go_battery.bat, This script file will use ERSV(Energy Checker SDK) to run my_battery.dll, which is a self-customized XLSDK Input Libray that collect Battery data. Then run.py execute go_processes.bat. This script file will use ERSV to run intel_process_input.dll, which is a Intel-provided XLSDK Input Libray that collect Processes data. Collected data will be stored as \"processes/battery_output-00000X.db\" files under src\\data\\Project\\working_directory\\input\\ for further analysis."
   ]
  },
  {
   "cell_type": "markdown",
   "metadata": {},
   "source": [
    "#### Self-Implement Method Detail\n",
    "&ensp; To collect power usage data from a battery, we implement my battery.dll,\n",
    "which is a static standard input library. We choose static standard mode since\n",
    "the number of features we collect doesn’t vary charging rate and they are syn-\n",
    "chronous. My battery.dll can collect four features, Battery Lifetime, Max Bat-\n",
    "tery Lifetime, AC/DC and Battery status. All features are indexed by times-\n",
    "tamp. \n",
    "<br>\n",
    "&ensp; Battery Lifetime, Max Battery Lifetime are used to calculate the power\n",
    "usage. They are measured by expected remaining time with unit Second. For\n",
    "batteries, Capacity (energy) equals power times time. Since max capacity re-\n",
    "mains the same, comparing the max remaining time of ST and MT, we can\n",
    "work out the power usage ratio between ST and MT. For the case that ST/MT\n",
    "has very low word load and background application may have a big influence on\n",
    "expected remaining time, we collect current battery lifetime T1 when ST/MT is\n",
    "working and T2 when only background application is working. With equation\n",
    "P1 = (T2 - T1)/T1 * P2, we can calculate power ratio between ST/MT and\n",
    "background application.Since we can use processes IL to keep background application with constant\n",
    "workload, then we can power ratio between ST and MT. \n",
    "<br>\n",
    "&ensp; AC/DC and Battery Status are used to check if Battery life time are valid or not. When AC/DC is 1,\n",
    "which means this computer uses AC battery, Battery life time will always return\n",
    "-1. When Battery Status is 8, which means it is charging, Battery life time may\n",
    "return extreme values since charging rate may exceed discharging rate. Since\n",
    "we aim to probe how power usage varies between ST and MT, above cases will\n",
    "cause error."
   ]
  },
  {
   "cell_type": "code",
   "execution_count": 5,
   "metadata": {},
   "outputs": [
    {
     "data": {
      "text/plain": [
       "<AxesSubplot:>"
      ]
     },
     "execution_count": 5,
     "metadata": {},
     "output_type": "execute_result"
    },
    {
     "data": {
      "image/png": "[encoded data removed]",
      "text/plain": [
       "<Figure size 432x288 with 1 Axes>"
      ]
     },
     "metadata": {
      "needs_background": "light"
     },
     "output_type": "display_data"
    }
   ],
   "source": [
    "conn = sqlite3.connect('../src/data/Project/working_directory/input/battery_output-000002.db')\n",
    "battery = pd.read_sql(\"select * from COUNTERS_ULL_TIME_DATA\", conn)\n",
    "battery = battery[battery[\"ID_INPUT\"] == 6][[\"MEASUREMENT_TIME\", \"VALUE\"]].rename(columns = {\"VALUE\": \"EXPECTED REMAINING TIME\"})\n",
    "battery[\"EXPECTED REMAINING TIME\"].drop([4,9]).iloc[:40].plot()"
   ]
  },
  {
   "cell_type": "code",
   "execution_count": 6,
   "metadata": {},
   "outputs": [
    {
     "name": "stdout",
     "output_type": "stream",
     "text": [
      "P1 : P2 = 1 : 0.432\n",
      "ratio: 2.311\n"
     ]
    }
   ],
   "source": [
    "###mean of sampels before 37\n",
    "T1 = np.mean(battery[\"EXPECTED REMAINING TIME\"].drop([4,9])[:27])\n",
    "###mean of sampels after 37\n",
    "T2 = np.mean(battery[\"EXPECTED REMAINING TIME\"].drop([4,9])[27:40])\n",
    "print(\"P1 : P2 = 1 : \" + str((T2 - T1) / T1)[:5])\n",
    "print(\"ratio: \" + str(T1 / (T2 - T1))[:5])"
   ]
  },
  {
   "cell_type": "markdown",
   "metadata": {},
   "source": [
    "This is an example collected from my local computer. The samples before 37 are battery lifetime with ST( Dask with one core ) and The samples after 37 are battery lifetime with background application only. We can calculate ratio of power between P1 and P2 is 2.311"
   ]
  },
  {
   "cell_type": "markdown",
   "metadata": {},
   "source": [
    "### Process of our EDA\n",
    "\n",
    "<ol>\n",
    "    <li>merge the raw databases using ATLSDK (Analyzer Task Library SDK)</li>\n",
    "    <li>write SQL functions to generate data insights</li>\n",
    "</ol>"
   ]
  },
  {
   "cell_type": "markdown",
   "metadata": {},
   "source": [
    "#### Merge the raw databases\n",
    "\n",
    "&ensp; After we collect data from both the battery usage and processes in the form of databases, we would merge them using both Analyzer Task Library (ATL) that  works  on  SDLite  DB  and  produces  on-device  analytics  and  ATLSDK,  a tool  to  develop,  debug,  and  optimize  the  ATL  for  Intel  telemetry collector. This  technique  is  also  called  edge  analytics  that allows us to correlate  data  col-lected by multiple ILs. \n",
    "<br>\n",
    "&ensp; In our case, after consuming the two output databases (retrieved from the data collection process) as the two DB files shown below, the analyzer would produce the merged database which contains 9 pre-defined tables."
   ]
  },
  {
   "cell_type": "code",
   "execution_count": 4,
   "metadata": {},
   "outputs": [
    {
     "name": "stdout",
     "output_type": "stream",
     "text": [
      "C:\\Users\\Yingyin\\Documents\\GitHub\\Capstone-Project\n",
      "['battery_output-000000.db', 'battery_output_consent_history-000001-000000.json', 'processes_output-000000.db', 'processes_output_consent_history-000001-000000.json']\n"
     ]
    }
   ],
   "source": [
    "mycwd = os.getcwd()\n",
    "os.chdir(\"..\") #go to the previous dir\n",
    "srcdir = os.getcwd()\n",
    "print(os.getcwd())\n",
    "print(os.listdir(srcdir + \"\\src\\data\\Project\\working_directory\\input\"))"
   ]
  },
  {
   "cell_type": "code",
   "execution_count": 5,
   "metadata": {},
   "outputs": [],
   "source": [
    "os.chdir(mycwd) #go back to where I come from"
   ]
  },
  {
   "cell_type": "code",
   "execution_count": 8,
   "metadata": {},
   "outputs": [],
   "source": [
    "os.chdir(\"..\") #go to the previous dir\n",
    "outputPath = os.getcwd() + \"\\\\src\\\\data\\\\Project\\\\working_directory\\\\output\" # the outputPath is the path to the merged database\n",
    "DBName = \"IDC_DATABASE.SQLITE\"\n",
    "conn = sqlite3.connect(outputPath+\"\\\\\"+DBName)\n",
    "c = conn.cursor()"
   ]
  },
  {
   "cell_type": "markdown",
   "metadata": {},
   "source": [
    "Here is the 9 pre-defined table from the merged database."
   ]
  },
  {
   "cell_type": "code",
   "execution_count": 13,
   "metadata": {},
   "outputs": [
    {
     "name": "stdout",
     "output_type": "stream",
     "text": [
      "('INPUT_LIBRARIES',)\n",
      "('INPUTS',)\n",
      "('COUNTERS_BLOB_TIME_DATA',)\n",
      "('COUNTERS_DOUBLE_TIME_DATA',)\n",
      "('COUNTERS_LL_TIME_DATA',)\n",
      "('COUNTERS_STRING_TIME_DATA',)\n",
      "('COUNTERS_ULL_TIME_DATA',)\n",
      "('COUNTERS_UUID_TIME_DATA',)\n",
      "('DB_META_DATA',)\n",
      "('tbl1',)\n"
     ]
    }
   ],
   "source": [
    "for x in (c.execute(\"select name from sqlite_master where type = 'table';\")):\n",
    "    print(x)"
   ]
  },
  {
   "cell_type": "markdown",
   "metadata": {},
   "source": [
    "&ensp; DB\\_META\\_DATABASE contains data collection beginning and end times, INPUT\\_LIBRARIES shows the input libraries (IL) collected, and INPUT describes all metrics in the input libraries. COUNTERS\\_BLOB\\_TIME\\_DATA table contains binary large objects, as the name suggested. Tables that start with “COUNTERS” all have the five attributes: \n",
    "<br>\n",
    "<ol>\n",
    "    <li>MEASUREMENT\\_TIME (timestamp of the value collected)</li>\n",
    "    <li>ID\\_INPUT (unique ID for each session)</li>\n",
    "    <li>VALUE (value corresponding to the metrics)</li>\n",
    "    <li>PRIVATE\\_DATA (per each input metric attribute)</li>\n",
    "    <li>SESSION\\_ID (number ID for each raw database)</li>\n",
    "<br>\n",
    "&ensp; Below is an example."
   ]
  },
  {
   "cell_type": "code",
   "execution_count": 20,
   "metadata": {},
   "outputs": [
    {
     "name": "stdout",
     "output_type": "stream",
     "text": [
      "('2020-11-20 14:26:57.900', 1, 0.0, '136', 2)\n",
      "('2020-11-20 14:26:57.900', 2, 0.0, '136', 2)\n",
      "('2020-11-20 14:26:57.902', 1, 0.0, '2208', 2)\n",
      "('2020-11-20 14:26:57.902', 2, 0.0, '2208', 2)\n",
      "('2020-11-20 14:26:57.902', 1, 315.265625, '0', 2)\n"
     ]
    }
   ],
   "source": [
    "for x in (c.execute(\"select * from COUNTERS_DOUBLE_TIME_DATA limit 5;\")):\n",
    "    print(x)"
   ]
  },
  {
   "cell_type": "markdown",
   "metadata": {},
   "source": [
    "&ensp; By taking advantage of the primary key SESSION\\_ID in all the tables, we are able to merge the interrelated tables and examine the relationship among them. For example, we can get all the input descriptions by joining INPUT and INPUT\\_LIBRARIES on the SESSION\\_ID."
   ]
  },
  {
   "cell_type": "code",
   "execution_count": 22,
   "metadata": {},
   "outputs": [],
   "source": [
    "# Here, tbl1 already created in EDA.ipynb, is a table from joining INPUT and INPUT_LIBRARIES on identical session ID.\n",
    "columns = {}\n",
    "for x in (c.execute(\"PRAGMA table_info(tbl1)\")):\n",
    "    columns[x[1]] = x[2]"
   ]
  },
  {
   "cell_type": "code",
   "execution_count": 23,
   "metadata": {},
   "outputs": [
    {
     "data": {
      "text/html": [
       "<div>\n",
       "<style scoped>\n",
       "    .dataframe tbody tr th:only-of-type {\n",
       "        vertical-align: middle;\n",
       "    }\n",
       "\n",
       "    .dataframe tbody tr th {\n",
       "        vertical-align: top;\n",
       "    }\n",
       "\n",
       "    .dataframe thead th {\n",
       "        text-align: right;\n",
       "    }\n",
       "</style>\n",
       "<table border=\"1\" class=\"dataframe\">\n",
       "  <thead>\n",
       "    <tr style=\"text-align: right;\">\n",
       "      <th></th>\n",
       "      <th>ID_INPUT</th>\n",
       "      <th>ID_INPUT_LIBRARY</th>\n",
       "      <th>ID_BLOB_INPUT</th>\n",
       "      <th>INDEX_IN_BLOB</th>\n",
       "      <th>INPUT_NAME</th>\n",
       "      <th>INPUT_DESCRIPTION</th>\n",
       "      <th>INPUT_TYPE</th>\n",
       "      <th>INPUT_CATALOG_TIME_UTC</th>\n",
       "      <th>GUID</th>\n",
       "      <th>SESSION_ID</th>\n",
       "      <th>ID_INPUT_LIBRARY:1</th>\n",
       "      <th>NAME</th>\n",
       "      <th>FILE_NAME</th>\n",
       "      <th>VERSION</th>\n",
       "      <th>GUID:1</th>\n",
       "      <th>LOAD_TIME_UTC</th>\n",
       "      <th>UNLOAD_TIME_UTC</th>\n",
       "      <th>DYNAMIC</th>\n",
       "      <th>SESSION_ID:1</th>\n",
       "    </tr>\n",
       "  </thead>\n",
       "  <tbody>\n",
       "    <tr>\n",
       "      <th>0</th>\n",
       "      <td>0</td>\n",
       "      <td>0</td>\n",
       "      <td>0</td>\n",
       "      <td>0</td>\n",
       "      <td>BATTERY(0)</td>\n",
       "      <td>Battery:::AC/DC::</td>\n",
       "      <td>1</td>\n",
       "      <td>2020-11-20 06:25:12.002</td>\n",
       "      <td>547f73d8-d0fe-478c-b822-69d88ed1a2f9</td>\n",
       "      <td>1000</td>\n",
       "      <td>0</td>\n",
       "      <td>BATTERY</td>\n",
       "      <td>C:\\Users\\Yingyin\\Documents\\GitHub\\Capstone-Pro...</td>\n",
       "      <td>1.1.0.327</td>\n",
       "      <td>500e2ee8-c38f-4306-9e4a-88608ec5fc5d</td>\n",
       "      <td>2020-11-20 06:25:11.000</td>\n",
       "      <td>0000-00-00 00:00:00.000</td>\n",
       "      <td>0</td>\n",
       "      <td>1000</td>\n",
       "    </tr>\n",
       "    <tr>\n",
       "      <th>1</th>\n",
       "      <td>1</td>\n",
       "      <td>0</td>\n",
       "      <td>0</td>\n",
       "      <td>0</td>\n",
       "      <td>BATTERY(1)</td>\n",
       "      <td>Battery:::BatteryLifeTime:Sec:</td>\n",
       "      <td>1</td>\n",
       "      <td>2020-11-20 06:25:12.003</td>\n",
       "      <td>b92cc7d8-6c93-4fb6-858f-5bfbac1a3e75</td>\n",
       "      <td>1000</td>\n",
       "      <td>0</td>\n",
       "      <td>BATTERY</td>\n",
       "      <td>C:\\Users\\Yingyin\\Documents\\GitHub\\Capstone-Pro...</td>\n",
       "      <td>1.1.0.327</td>\n",
       "      <td>500e2ee8-c38f-4306-9e4a-88608ec5fc5d</td>\n",
       "      <td>2020-11-20 06:25:11.000</td>\n",
       "      <td>0000-00-00 00:00:00.000</td>\n",
       "      <td>0</td>\n",
       "      <td>1000</td>\n",
       "    </tr>\n",
       "    <tr>\n",
       "      <th>2</th>\n",
       "      <td>2</td>\n",
       "      <td>0</td>\n",
       "      <td>0</td>\n",
       "      <td>0</td>\n",
       "      <td>BATTERY(2)</td>\n",
       "      <td>Battery:::MaxBatteryLifeTime:Sec:</td>\n",
       "      <td>1</td>\n",
       "      <td>2020-11-20 06:25:12.003</td>\n",
       "      <td>e571a62b-f92d-4d17-ab8f-cf0dfa21e59c</td>\n",
       "      <td>1000</td>\n",
       "      <td>0</td>\n",
       "      <td>BATTERY</td>\n",
       "      <td>C:\\Users\\Yingyin\\Documents\\GitHub\\Capstone-Pro...</td>\n",
       "      <td>1.1.0.327</td>\n",
       "      <td>500e2ee8-c38f-4306-9e4a-88608ec5fc5d</td>\n",
       "      <td>2020-11-20 06:25:11.000</td>\n",
       "      <td>0000-00-00 00:00:00.000</td>\n",
       "      <td>0</td>\n",
       "      <td>1000</td>\n",
       "    </tr>\n",
       "    <tr>\n",
       "      <th>3</th>\n",
       "      <td>0</td>\n",
       "      <td>0</td>\n",
       "      <td>0</td>\n",
       "      <td>0</td>\n",
       "      <td>PROCESS(0)</td>\n",
       "      <td>OS::PROCESS:EXECNAME::</td>\n",
       "      <td>4</td>\n",
       "      <td>2020-11-20 06:26:57.901</td>\n",
       "      <td>ee7de8db-96fe-483b-8391-3ad4fffe5473</td>\n",
       "      <td>2</td>\n",
       "      <td>0</td>\n",
       "      <td>PROCESS</td>\n",
       "      <td>C:\\Users\\Yingyin\\Documents\\GitHub\\Capstone-Pro...</td>\n",
       "      <td>1.1.0.327</td>\n",
       "      <td>fcef3fe0-c8ff-4f35-a7f0-5bbdc857e8ad</td>\n",
       "      <td>2020-11-20 06:26:15.000</td>\n",
       "      <td>0000-00-00 00:00:00.000</td>\n",
       "      <td>0</td>\n",
       "      <td>2</td>\n",
       "    </tr>\n",
       "    <tr>\n",
       "      <th>4</th>\n",
       "      <td>1</td>\n",
       "      <td>0</td>\n",
       "      <td>0</td>\n",
       "      <td>0</td>\n",
       "      <td>PROCESS(1)</td>\n",
       "      <td>OS::PROCESS:KERNEL:SECS:</td>\n",
       "      <td>3</td>\n",
       "      <td>2020-11-20 06:26:57.901</td>\n",
       "      <td>d296755d-c52d-4302-b69c-03f097080c11</td>\n",
       "      <td>2</td>\n",
       "      <td>0</td>\n",
       "      <td>PROCESS</td>\n",
       "      <td>C:\\Users\\Yingyin\\Documents\\GitHub\\Capstone-Pro...</td>\n",
       "      <td>1.1.0.327</td>\n",
       "      <td>fcef3fe0-c8ff-4f35-a7f0-5bbdc857e8ad</td>\n",
       "      <td>2020-11-20 06:26:15.000</td>\n",
       "      <td>0000-00-00 00:00:00.000</td>\n",
       "      <td>0</td>\n",
       "      <td>2</td>\n",
       "    </tr>\n",
       "  </tbody>\n",
       "</table>\n",
       "</div>"
      ],
      "text/plain": [
       "  ID_INPUT ID_INPUT_LIBRARY ID_BLOB_INPUT INDEX_IN_BLOB  INPUT_NAME  \\\n",
       "0        0                0             0             0  BATTERY(0)   \n",
       "1        1                0             0             0  BATTERY(1)   \n",
       "2        2                0             0             0  BATTERY(2)   \n",
       "3        0                0             0             0  PROCESS(0)   \n",
       "4        1                0             0             0  PROCESS(1)   \n",
       "\n",
       "                   INPUT_DESCRIPTION INPUT_TYPE   INPUT_CATALOG_TIME_UTC  \\\n",
       "0                  Battery:::AC/DC::          1  2020-11-20 06:25:12.002   \n",
       "1     Battery:::BatteryLifeTime:Sec:          1  2020-11-20 06:25:12.003   \n",
       "2  Battery:::MaxBatteryLifeTime:Sec:          1  2020-11-20 06:25:12.003   \n",
       "3             OS::PROCESS:EXECNAME::          4  2020-11-20 06:26:57.901   \n",
       "4           OS::PROCESS:KERNEL:SECS:          3  2020-11-20 06:26:57.901   \n",
       "\n",
       "                                   GUID SESSION_ID ID_INPUT_LIBRARY:1  \\\n",
       "0  547f73d8-d0fe-478c-b822-69d88ed1a2f9       1000                  0   \n",
       "1  b92cc7d8-6c93-4fb6-858f-5bfbac1a3e75       1000                  0   \n",
       "2  e571a62b-f92d-4d17-ab8f-cf0dfa21e59c       1000                  0   \n",
       "3  ee7de8db-96fe-483b-8391-3ad4fffe5473          2                  0   \n",
       "4  d296755d-c52d-4302-b69c-03f097080c11          2                  0   \n",
       "\n",
       "      NAME                                          FILE_NAME    VERSION  \\\n",
       "0  BATTERY  C:\\Users\\Yingyin\\Documents\\GitHub\\Capstone-Pro...  1.1.0.327   \n",
       "1  BATTERY  C:\\Users\\Yingyin\\Documents\\GitHub\\Capstone-Pro...  1.1.0.327   \n",
       "2  BATTERY  C:\\Users\\Yingyin\\Documents\\GitHub\\Capstone-Pro...  1.1.0.327   \n",
       "3  PROCESS  C:\\Users\\Yingyin\\Documents\\GitHub\\Capstone-Pro...  1.1.0.327   \n",
       "4  PROCESS  C:\\Users\\Yingyin\\Documents\\GitHub\\Capstone-Pro...  1.1.0.327   \n",
       "\n",
       "                                 GUID:1            LOAD_TIME_UTC  \\\n",
       "0  500e2ee8-c38f-4306-9e4a-88608ec5fc5d  2020-11-20 06:25:11.000   \n",
       "1  500e2ee8-c38f-4306-9e4a-88608ec5fc5d  2020-11-20 06:25:11.000   \n",
       "2  500e2ee8-c38f-4306-9e4a-88608ec5fc5d  2020-11-20 06:25:11.000   \n",
       "3  fcef3fe0-c8ff-4f35-a7f0-5bbdc857e8ad  2020-11-20 06:26:15.000   \n",
       "4  fcef3fe0-c8ff-4f35-a7f0-5bbdc857e8ad  2020-11-20 06:26:15.000   \n",
       "\n",
       "           UNLOAD_TIME_UTC DYNAMIC SESSION_ID:1  \n",
       "0  0000-00-00 00:00:00.000       0         1000  \n",
       "1  0000-00-00 00:00:00.000       0         1000  \n",
       "2  0000-00-00 00:00:00.000       0         1000  \n",
       "3  0000-00-00 00:00:00.000       0            2  \n",
       "4  0000-00-00 00:00:00.000       0            2  "
      ]
     },
     "execution_count": 23,
     "metadata": {},
     "output_type": "execute_result"
    }
   ],
   "source": [
    "df = pd.DataFrame(columns = columns.keys())\n",
    "counter = 0\n",
    "for x in c.execute(\"SELECT * FROM tbl1\"):\n",
    "    df.loc[counter] = x\n",
    "    counter += 1\n",
    "df.head()"
   ]
  },
  {
   "cell_type": "code",
   "execution_count": 24,
   "metadata": {},
   "outputs": [
    {
     "data": {
      "text/plain": [
       "ID_INPUT                  object\n",
       "ID_INPUT_LIBRARY          object\n",
       "ID_BLOB_INPUT             object\n",
       "INDEX_IN_BLOB             object\n",
       "INPUT_NAME                object\n",
       "INPUT_DESCRIPTION         object\n",
       "INPUT_TYPE                object\n",
       "INPUT_CATALOG_TIME_UTC    object\n",
       "GUID                      object\n",
       "SESSION_ID                object\n",
       "NAME                      object\n",
       "FILE_NAME                 object\n",
       "VERSION                   object\n",
       "GUID:1                    object\n",
       "LOAD_TIME_UTC             object\n",
       "UNLOAD_TIME_UTC           object\n",
       "DYNAMIC                   object\n",
       "dtype: object"
      ]
     },
     "execution_count": 24,
     "metadata": {},
     "output_type": "execute_result"
    }
   ],
   "source": [
    "#drop repetitive columns\n",
    "df = df.drop(columns = ['ID_INPUT_LIBRARY:1', 'SESSION_ID:1'], axis =1)\n",
    "df.dtypes"
   ]
  },
  {
   "cell_type": "markdown",
   "metadata": {},
   "source": [
    "We need to convert the data types for numerical columns later as we go along."
   ]
  },
  {
   "cell_type": "code",
   "execution_count": 25,
   "metadata": {},
   "outputs": [
    {
     "data": {
      "text/plain": [
       "PROCESS    17\n",
       "BATTERY     3\n",
       "Name: NAME, dtype: int64"
      ]
     },
     "execution_count": 25,
     "metadata": {},
     "output_type": "execute_result"
    }
   ],
   "source": [
    "df.NAME.value_counts()"
   ]
  },
  {
   "cell_type": "markdown",
   "metadata": {},
   "source": [
    "We have 17 input libraries for process and 3 for battery. Let's see what they are."
   ]
  },
  {
   "cell_type": "code",
   "execution_count": 27,
   "metadata": {},
   "outputs": [
    {
     "data": {
      "text/plain": [
       "0                         Battery:::AC/DC::\n",
       "1            Battery:::BatteryLifeTime:Sec:\n",
       "2         Battery:::MaxBatteryLifeTime:Sec:\n",
       "3                    OS::PROCESS:EXECNAME::\n",
       "4                  OS::PROCESS:KERNEL:SECS:\n",
       "5                    OS::PROCESS:USER:SECS:\n",
       "6         OS:ETW:PROCESS:DISKIO_READ:BYTES:\n",
       "7        OS:ETW:PROCESS:DISKIO_WRITE:BYTES:\n",
       "8          OS:ETW:PROCESS:TCPIP_SEND:BYTES:\n",
       "9                  OS::PROCESS:START_TIME::\n",
       "10             OS::PROCESS:RUNNING_TIME:MS:\n",
       "11                   OS::PROCESS:FILENAME::\n",
       "12                    OS::PROCESS:VERSION::\n",
       "13                OS::PROCESS:IOREAD:BYTES:\n",
       "14               OS::PROCESS:IOWRITE:BYTES:\n",
       "15               OS::PROCESS:IOOTHER:BYTES:\n",
       "16                 OS::PROCESS:PAGEFAULTS::\n",
       "17         OS:ETW:PROCESS:HARD_PAGEFAULTS::\n",
       "18         OS::PROCESS:WORKSET_SIZE:KBYTES:\n",
       "19    OS::PROCESS:PEAK_WORKSET_SIZE:KBYTES:\n",
       "Name: INPUT_DESCRIPTION, dtype: object"
      ]
     },
     "execution_count": 27,
     "metadata": {},
     "output_type": "execute_result"
    }
   ],
   "source": [
    "df.INPUT_DESCRIPTION"
   ]
  },
  {
   "cell_type": "markdown",
   "metadata": {},
   "source": [
    "From the descriptions, we have multiple features of battery's and process's usage, which are great factors to help us explore minimum reliability requirements under ST and MT cases."
   ]
  },
  {
   "cell_type": "markdown",
   "metadata": {},
   "source": [
    "### Conclusions and Ideas\n",
    "<br>\n",
    "&ensp; Earlier we demonstrated an interest in exploring minimum reliability requirements from a ST (single-tasking) activity and a MT (multitasking) activity. The way we collected the data as we described above could help us achieve the goal efficiently: by collecting the data twice, one under a ST activity, that is to say, one process only, and the other one under a MT activity, multiple processes, we would merge the raw databases and get two merged databases for both situations. Intuitively, batteries are more enduring in ST than in MT, which could be validated with the inputs, such as the Battery::BatteryLifeTime::Sec. Further, to explore minimum reliability requirements for both ST and MT, we could use the same set of data to see with what number amount of workload, or what range, would be suitable, by performing a cluster analysis on the chosen inputs, including the remaining amount of battery, number of processes, etc.."
   ]
  },
  {
   "cell_type": "code",
   "execution_count": null,
   "metadata": {},
   "outputs": [],
   "source": []
  }
 ],
 "metadata": {
  "kernelspec": {
   "display_name": "Python 3",
   "language": "python",
   "name": "python3"
  },
  "language_info": {
   "codemirror_mode": {
    "name": "ipython",
    "version": 3
   },
   "file_extension": ".py",
   "mimetype": "text/x-python",
   "name": "python",
   "nbconvert_exporter": "python",
   "pygments_lexer": "ipython3",
   "version": "3.8.5"
  }
 },
 "nbformat": 4,
 "nbformat_minor": 4
}
